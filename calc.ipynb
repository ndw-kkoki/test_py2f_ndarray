{
 "cells": [
  {
   "cell_type": "code",
   "execution_count": null,
   "metadata": {},
   "outputs": [],
   "source": [
    "import numpy as np\n",
    "from ctypes import *\n",
    "\n",
    "# Fortran サブルーチンの読み込み（引数、返値の型指定）\n",
    "fmath = np.ctypeslib.load_library(\"fmath.so\",\".\")\n",
    "fmath.add_one.argtypes = [\n",
    "    np.ctypeslib.ndpointer(dtype=np.float64),\n",
    "    np.ctypeslib.ndpointer(dtype=np.float64),\n",
    "    POINTER(c_int64) ]\n",
    "fmath.add_one.restype = c_void_p\n",
    "\n",
    "# 引数、返値の作成\n",
    "inArray = np.arange(0.,10.,dtype=np.float64)\n",
    "outArray = np.empty_like(inArray)\n",
    "size = byref(c_int64(inArray.size))\n",
    "\n",
    "# サブルーチンの呼び出し\n",
    "fmath.add_one(inArray, outArray, size)\n",
    "\n",
    "# 結果の出力\n",
    "print (inArray) # 0,1,2,..,9\n",
    "print (outArray) # 1,2,3,..,10"
   ]
  }
 ],
 "metadata": {
  "language_info": {
   "name": "python"
  }
 },
 "nbformat": 4,
 "nbformat_minor": 2
}
